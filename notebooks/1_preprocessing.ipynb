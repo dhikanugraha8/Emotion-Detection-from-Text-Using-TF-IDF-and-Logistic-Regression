{
 "cells": [
  {
   "cell_type": "markdown",
   "id": "d7b90b4b-a449-4e57-b4ec-8a5f380c21b8",
   "metadata": {},
   "source": [
    "## 1. Project Overview\n",
    "\n",
    "This project aims to develop a robust emotion detection system capable of classifying text-based data into six distinct emotions: sadness, joy, love, anger, fear, and surprise. By leveraging advanced natural language processing (NLP) techniques and machine learning, the goal is to provide accurate and meaningful insights into emotional expressions\n",
    "\n",
    "## 2. About Dataset \n",
    "The dataset used for this project comprises 416,809 samples, annotated with six emotion categories: sadness, joy, love, anger, fear, and surprise. This diverse and large-scale dataset enables the development of a reliable model to understand and predict emotional tones in text\n",
    "\n",
    "## 3. Objective Statement\n",
    "The primary objective of this project is to create a high-performing emotion detection model that not only achieves a high classification accuracy but also maintains balanced performance across all emotion categories, addressing potential challenges of class imbalance and subtle differences in emotional expressions\n",
    "\n",
    "## 4. Project Significance\n",
    "Understanding emotions in text is crucial for applications in sentiment analysis, mental health monitoring, and customer feedback analysis. This project seeks to bridge the gap by providing a scalable and accurate emotion detection system trained on a comprehensive datasets\n",
    "\n",
    "## 5. Methodology Overview\n",
    "This project employs an end-to-end machine learning pipeline, including preprocessing, feature extraction using TF-IDF, and multi-class classification, to develop an emotion detection system tailored for nuanced and balanced prediction across six emotion categories"
   ]
  },
  {
   "cell_type": "code",
   "execution_count": 1,
   "id": "4da86a85-53e6-41c0-a793-e8bd5ef95b22",
   "metadata": {},
   "outputs": [],
   "source": [
    "import pandas as pd\n",
    "import numpy as np\n",
    "import matplotlib.pyplot as plt\n",
    "import seaborn as sns\n",
    "import os\n",
    "import re\n",
    "import spacy"
   ]
  },
  {
   "cell_type": "code",
   "execution_count": 2,
   "id": "839c2226-e2ee-43f6-b03f-1c00c51d9f2e",
   "metadata": {
    "scrolled": true
   },
   "outputs": [
    {
     "name": "stdout",
     "output_type": "stream",
     "text": [
      "\u001b[38;5;2m[+] Download and installation successful\u001b[0m\n",
      "You can now load the package via spacy.load('en_core_web_sm')\n"
     ]
    }
   ],
   "source": [
    "!python -m spacy download en_core_web_sm --q"
   ]
  },
  {
   "cell_type": "code",
   "execution_count": 3,
   "id": "db90f1e6-4c88-473f-b356-d26cfb38be8f",
   "metadata": {},
   "outputs": [
    {
     "data": {
      "text/html": [
       "<div>\n",
       "<style scoped>\n",
       "    .dataframe tbody tr th:only-of-type {\n",
       "        vertical-align: middle;\n",
       "    }\n",
       "\n",
       "    .dataframe tbody tr th {\n",
       "        vertical-align: top;\n",
       "    }\n",
       "\n",
       "    .dataframe thead th {\n",
       "        text-align: right;\n",
       "    }\n",
       "</style>\n",
       "<table border=\"1\" class=\"dataframe\">\n",
       "  <thead>\n",
       "    <tr style=\"text-align: right;\">\n",
       "      <th></th>\n",
       "      <th>text</th>\n",
       "      <th>label</th>\n",
       "    </tr>\n",
       "  </thead>\n",
       "  <tbody>\n",
       "    <tr>\n",
       "      <th>0</th>\n",
       "      <td>i just feel really helpless and heavy hearted</td>\n",
       "      <td>4</td>\n",
       "    </tr>\n",
       "    <tr>\n",
       "      <th>1</th>\n",
       "      <td>ive enjoyed being able to slouch about relax a...</td>\n",
       "      <td>0</td>\n",
       "    </tr>\n",
       "    <tr>\n",
       "      <th>2</th>\n",
       "      <td>i gave up my internship with the dmrg and am f...</td>\n",
       "      <td>4</td>\n",
       "    </tr>\n",
       "    <tr>\n",
       "      <th>3</th>\n",
       "      <td>i dont know i feel so lost</td>\n",
       "      <td>0</td>\n",
       "    </tr>\n",
       "    <tr>\n",
       "      <th>4</th>\n",
       "      <td>i am a kindergarten teacher and i am thoroughl...</td>\n",
       "      <td>4</td>\n",
       "    </tr>\n",
       "    <tr>\n",
       "      <th>...</th>\n",
       "      <td>...</td>\n",
       "      <td>...</td>\n",
       "    </tr>\n",
       "    <tr>\n",
       "      <th>416804</th>\n",
       "      <td>i feel like telling these horny devils to find...</td>\n",
       "      <td>2</td>\n",
       "    </tr>\n",
       "    <tr>\n",
       "      <th>416805</th>\n",
       "      <td>i began to realize that when i was feeling agi...</td>\n",
       "      <td>3</td>\n",
       "    </tr>\n",
       "    <tr>\n",
       "      <th>416806</th>\n",
       "      <td>i feel very curious be why previous early dawn...</td>\n",
       "      <td>5</td>\n",
       "    </tr>\n",
       "    <tr>\n",
       "      <th>416807</th>\n",
       "      <td>i feel that becuase of the tyranical nature of...</td>\n",
       "      <td>3</td>\n",
       "    </tr>\n",
       "    <tr>\n",
       "      <th>416808</th>\n",
       "      <td>i think that after i had spent some time inves...</td>\n",
       "      <td>5</td>\n",
       "    </tr>\n",
       "  </tbody>\n",
       "</table>\n",
       "<p>416809 rows × 2 columns</p>\n",
       "</div>"
      ],
      "text/plain": [
       "                                                     text  label\n",
       "0           i just feel really helpless and heavy hearted      4\n",
       "1       ive enjoyed being able to slouch about relax a...      0\n",
       "2       i gave up my internship with the dmrg and am f...      4\n",
       "3                              i dont know i feel so lost      0\n",
       "4       i am a kindergarten teacher and i am thoroughl...      4\n",
       "...                                                   ...    ...\n",
       "416804  i feel like telling these horny devils to find...      2\n",
       "416805  i began to realize that when i was feeling agi...      3\n",
       "416806  i feel very curious be why previous early dawn...      5\n",
       "416807  i feel that becuase of the tyranical nature of...      3\n",
       "416808  i think that after i had spent some time inves...      5\n",
       "\n",
       "[416809 rows x 2 columns]"
      ]
     },
     "execution_count": 3,
     "metadata": {},
     "output_type": "execute_result"
    }
   ],
   "source": [
    "data=pd.read_csv('../data/emotions.csv')\n",
    "data"
   ]
  },
  {
   "cell_type": "code",
   "execution_count": 4,
   "id": "59840ca7-c675-418a-b60c-40a2e9b175a4",
   "metadata": {},
   "outputs": [
    {
     "name": "stdout",
     "output_type": "stream",
     "text": [
      "<class 'pandas.core.frame.DataFrame'>\n",
      "RangeIndex: 416809 entries, 0 to 416808\n",
      "Data columns (total 2 columns):\n",
      " #   Column  Non-Null Count   Dtype \n",
      "---  ------  --------------   ----- \n",
      " 0   text    416809 non-null  object\n",
      " 1   label   416809 non-null  int64 \n",
      "dtypes: int64(1), object(1)\n",
      "memory usage: 6.4+ MB\n"
     ]
    }
   ],
   "source": [
    "data.info()"
   ]
  },
  {
   "cell_type": "code",
   "execution_count": 5,
   "id": "378601aa-9b47-49bd-90d1-4c0b030cee8e",
   "metadata": {},
   "outputs": [
    {
     "data": {
      "image/png": "[encoded data removed]",
      "text/plain": [
       "<Figure size 640x480 with 1 Axes>"
      ]
     },
     "metadata": {},
     "output_type": "display_data"
    }
   ],
   "source": [
    "# Decode int label category to string \n",
    "emotion_mapping = {\n",
    "    0: \"Sadness\",\n",
    "    1: \"Joy\",\n",
    "    2: \"Love\",\n",
    "    3: \"Anger\",\n",
    "    4: \"Fear\",\n",
    "    5: \"Surprise\"\n",
    "}\n",
    "\n",
    "sns.countplot(data=data, x='label')\n",
    "plt.xticks(ticks=range(6), labels=list(emotion_mapping.values()))\n",
    "plt.show()"
   ]
  },
  {
   "cell_type": "code",
   "execution_count": 6,
   "id": "7e774394-f4b4-4ca9-bd22-92e31437c98b",
   "metadata": {},
   "outputs": [],
   "source": [
    "nlp = spacy.load(\"en_core_web_sm\", disable=[\"parser\", \"ner\"])\n",
    "\n",
    "# Add other stopword\n",
    "custom_stopwords = {\"feel\", \"thing\", \"think\", \"know\", \"people\", \"make\", \"want\", \"need\", \"get\", \"go\", \"time\", \n",
    "                    \"feeling\", \"feelin\", \"feels\", \"felt\", \"feelings\", \"thinking\"}\n",
    "\n",
    "def text_preprocessing(text):\n",
    "    # Remove URL, number, punctuation, and common contractions\n",
    "    text = re.sub(r'https?://\\S+|www\\.\\S+', '', text)\n",
    "    text = re.sub(r'[-+]?[0-9]+', '', text)\n",
    "    text = re.sub(r'[^\\w\\s]', '', text)\n",
    "    text = re.sub(r'\\b(don|doesn|didn|can|couldn|shouldn|won|wouldn|isn|aren|wasn|weren|hasn|haven|hadn|mustn|needn|oughtn|shan|mightn|mayn)\\s+t\\b', \n",
    "                  lambda match: f\"{match.group(1)}t\", text, flags=re.IGNORECASE)\n",
    "    text = re.sub(r\"\\b(?:im|ive|ill|is|youre|theyre|whats|'s|s|'m|m|'ve|ve|'ll|ll)\\b\", '', text, flags=re.IGNORECASE)\n",
    "    \n",
    "    # Text casefolding, stopword removal, and lemmatization\n",
    "    doc = nlp(text.lower())\n",
    "    tokens = [token.lemma_ for token in doc if not token.is_stop and token.is_alpha and token.lemma_ not in custom_stopwords]\n",
    "    tokens = [token for token in tokens if token != 's']\n",
    "    \n",
    "    return \" \".join(tokens)"
   ]
  },
  {
   "cell_type": "code",
   "execution_count": 7,
   "id": "5505759e-14c2-431e-a0a7-4ffa42189a0b",
   "metadata": {},
   "outputs": [
    {
     "name": "stdout",
     "output_type": "stream",
     "text": [
      "CPU times: total: 1h 2min 45s\n",
      "Wall time: 1h 10min 50s\n"
     ]
    }
   ],
   "source": [
    "%%time\n",
    "\n",
    "data['clean_text'] = data['text'].apply(text_preprocessing)"
   ]
  },
  {
   "cell_type": "code",
   "execution_count": 8,
   "id": "7b25204a-b011-4027-82e0-9d5b87da1fc3",
   "metadata": {},
   "outputs": [
    {
     "data": {
      "text/html": [
       "<div>\n",
       "<style scoped>\n",
       "    .dataframe tbody tr th:only-of-type {\n",
       "        vertical-align: middle;\n",
       "    }\n",
       "\n",
       "    .dataframe tbody tr th {\n",
       "        vertical-align: top;\n",
       "    }\n",
       "\n",
       "    .dataframe thead th {\n",
       "        text-align: right;\n",
       "    }\n",
       "</style>\n",
       "<table border=\"1\" class=\"dataframe\">\n",
       "  <thead>\n",
       "    <tr style=\"text-align: right;\">\n",
       "      <th></th>\n",
       "      <th>text</th>\n",
       "      <th>label</th>\n",
       "      <th>clean_text</th>\n",
       "    </tr>\n",
       "  </thead>\n",
       "  <tbody>\n",
       "    <tr>\n",
       "      <th>0</th>\n",
       "      <td>i just feel really helpless and heavy hearted</td>\n",
       "      <td>4</td>\n",
       "      <td>helpless heavy hearted</td>\n",
       "    </tr>\n",
       "    <tr>\n",
       "      <th>1</th>\n",
       "      <td>ive enjoyed being able to slouch about relax a...</td>\n",
       "      <td>0</td>\n",
       "      <td>enjoy able slouch relax unwind frankly week en...</td>\n",
       "    </tr>\n",
       "    <tr>\n",
       "      <th>2</th>\n",
       "      <td>i gave up my internship with the dmrg and am f...</td>\n",
       "      <td>4</td>\n",
       "      <td>give internship dmrg distraught</td>\n",
       "    </tr>\n",
       "    <tr>\n",
       "      <th>3</th>\n",
       "      <td>i dont know i feel so lost</td>\n",
       "      <td>0</td>\n",
       "      <td>not lost</td>\n",
       "    </tr>\n",
       "    <tr>\n",
       "      <th>4</th>\n",
       "      <td>i am a kindergarten teacher and i am thoroughl...</td>\n",
       "      <td>4</td>\n",
       "      <td>kindergarten teacher thoroughly weary job have...</td>\n",
       "    </tr>\n",
       "    <tr>\n",
       "      <th>...</th>\n",
       "      <td>...</td>\n",
       "      <td>...</td>\n",
       "      <td>...</td>\n",
       "    </tr>\n",
       "    <tr>\n",
       "      <th>416804</th>\n",
       "      <td>i feel like telling these horny devils to find...</td>\n",
       "      <td>2</td>\n",
       "      <td>like tell horny devil find site suited sort in...</td>\n",
       "    </tr>\n",
       "    <tr>\n",
       "      <th>416805</th>\n",
       "      <td>i began to realize that when i was feeling agi...</td>\n",
       "      <td>3</td>\n",
       "      <td>begin realize agitated restless thought dish</td>\n",
       "    </tr>\n",
       "    <tr>\n",
       "      <th>416806</th>\n",
       "      <td>i feel very curious be why previous early dawn...</td>\n",
       "      <td>5</td>\n",
       "      <td>curious previous early dawn not seek trouble</td>\n",
       "    </tr>\n",
       "    <tr>\n",
       "      <th>416807</th>\n",
       "      <td>i feel that becuase of the tyranical nature of...</td>\n",
       "      <td>3</td>\n",
       "      <td>becuase tyranical nature government el salvado...</td>\n",
       "    </tr>\n",
       "    <tr>\n",
       "      <th>416808</th>\n",
       "      <td>i think that after i had spent some time inves...</td>\n",
       "      <td>5</td>\n",
       "      <td>spend investigate surrounding start curious</td>\n",
       "    </tr>\n",
       "  </tbody>\n",
       "</table>\n",
       "<p>416809 rows × 3 columns</p>\n",
       "</div>"
      ],
      "text/plain": [
       "                                                     text  label  \\\n",
       "0           i just feel really helpless and heavy hearted      4   \n",
       "1       ive enjoyed being able to slouch about relax a...      0   \n",
       "2       i gave up my internship with the dmrg and am f...      4   \n",
       "3                              i dont know i feel so lost      0   \n",
       "4       i am a kindergarten teacher and i am thoroughl...      4   \n",
       "...                                                   ...    ...   \n",
       "416804  i feel like telling these horny devils to find...      2   \n",
       "416805  i began to realize that when i was feeling agi...      3   \n",
       "416806  i feel very curious be why previous early dawn...      5   \n",
       "416807  i feel that becuase of the tyranical nature of...      3   \n",
       "416808  i think that after i had spent some time inves...      5   \n",
       "\n",
       "                                               clean_text  \n",
       "0                                  helpless heavy hearted  \n",
       "1       enjoy able slouch relax unwind frankly week en...  \n",
       "2                         give internship dmrg distraught  \n",
       "3                                                not lost  \n",
       "4       kindergarten teacher thoroughly weary job have...  \n",
       "...                                                   ...  \n",
       "416804  like tell horny devil find site suited sort in...  \n",
       "416805       begin realize agitated restless thought dish  \n",
       "416806       curious previous early dawn not seek trouble  \n",
       "416807  becuase tyranical nature government el salvado...  \n",
       "416808        spend investigate surrounding start curious  \n",
       "\n",
       "[416809 rows x 3 columns]"
      ]
     },
     "execution_count": 8,
     "metadata": {},
     "output_type": "execute_result"
    }
   ],
   "source": [
    "data"
   ]
  },
  {
   "cell_type": "code",
   "execution_count": 9,
   "id": "331900c6-b8e7-4b10-939c-48c6ae7629a1",
   "metadata": {},
   "outputs": [],
   "source": [
    "data.to_csv('../data/emotions_clean.csv', index=False)"
   ]
  }
 ],
 "metadata": {
  "kernelspec": {
   "display_name": "Python 3 (ipykernel)",
   "language": "python",
   "name": "python3"
  },
  "language_info": {
   "codemirror_mode": {
    "name": "ipython",
    "version": 3
   },
   "file_extension": ".py",
   "mimetype": "text/x-python",
   "name": "python",
   "nbconvert_exporter": "python",
   "pygments_lexer": "ipython3",
   "version": "3.8.6"
  }
 },
 "nbformat": 4,
 "nbformat_minor": 5
}
